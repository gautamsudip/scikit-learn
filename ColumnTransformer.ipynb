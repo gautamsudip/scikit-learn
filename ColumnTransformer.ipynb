{
 "cells": [
  {
   "cell_type": "code",
   "execution_count": 1,
   "id": "b356b016-565c-4193-ad1a-3e8d744c2b19",
   "metadata": {},
   "outputs": [],
   "source": [
    "#                                                                 ColumnTransformer\n",
    "# Tool to apply different preprocessing transformations to different columns within a dataset."
   ]
  },
  {
   "cell_type": "code",
   "execution_count": 6,
   "id": "6c03c028-febe-4101-98ed-461157502df3",
   "metadata": {},
   "outputs": [],
   "source": [
    "import numpy as np\n",
    "import pandas as pd"
   ]
  },
  {
   "cell_type": "code",
   "execution_count": 7,
   "id": "df3a95ff-5008-447e-82c6-5a66291aa951",
   "metadata": {},
   "outputs": [],
   "source": [
    "df = pd.read_csv('csv files/covid_toy.csv')"
   ]
  },
  {
   "cell_type": "code",
   "execution_count": 8,
   "id": "3170c978-c821-4deb-8d1a-be8272338747",
   "metadata": {},
   "outputs": [
    {
     "data": {
      "text/html": [
       "<div>\n",
       "<style scoped>\n",
       "    .dataframe tbody tr th:only-of-type {\n",
       "        vertical-align: middle;\n",
       "    }\n",
       "\n",
       "    .dataframe tbody tr th {\n",
       "        vertical-align: top;\n",
       "    }\n",
       "\n",
       "    .dataframe thead th {\n",
       "        text-align: right;\n",
       "    }\n",
       "</style>\n",
       "<table border=\"1\" class=\"dataframe\">\n",
       "  <thead>\n",
       "    <tr style=\"text-align: right;\">\n",
       "      <th></th>\n",
       "      <th>age</th>\n",
       "      <th>gender</th>\n",
       "      <th>fever</th>\n",
       "      <th>cough</th>\n",
       "      <th>city</th>\n",
       "      <th>has_covid</th>\n",
       "    </tr>\n",
       "  </thead>\n",
       "  <tbody>\n",
       "    <tr>\n",
       "      <th>0</th>\n",
       "      <td>60</td>\n",
       "      <td>Male</td>\n",
       "      <td>103.0</td>\n",
       "      <td>Mild</td>\n",
       "      <td>Kolkata</td>\n",
       "      <td>No</td>\n",
       "    </tr>\n",
       "    <tr>\n",
       "      <th>1</th>\n",
       "      <td>27</td>\n",
       "      <td>Male</td>\n",
       "      <td>100.0</td>\n",
       "      <td>Mild</td>\n",
       "      <td>Delhi</td>\n",
       "      <td>Yes</td>\n",
       "    </tr>\n",
       "    <tr>\n",
       "      <th>2</th>\n",
       "      <td>42</td>\n",
       "      <td>Male</td>\n",
       "      <td>101.0</td>\n",
       "      <td>Mild</td>\n",
       "      <td>Delhi</td>\n",
       "      <td>No</td>\n",
       "    </tr>\n",
       "    <tr>\n",
       "      <th>3</th>\n",
       "      <td>31</td>\n",
       "      <td>Female</td>\n",
       "      <td>98.0</td>\n",
       "      <td>Mild</td>\n",
       "      <td>Kolkata</td>\n",
       "      <td>No</td>\n",
       "    </tr>\n",
       "    <tr>\n",
       "      <th>4</th>\n",
       "      <td>65</td>\n",
       "      <td>Female</td>\n",
       "      <td>101.0</td>\n",
       "      <td>Mild</td>\n",
       "      <td>Mumbai</td>\n",
       "      <td>No</td>\n",
       "    </tr>\n",
       "    <tr>\n",
       "      <th>...</th>\n",
       "      <td>...</td>\n",
       "      <td>...</td>\n",
       "      <td>...</td>\n",
       "      <td>...</td>\n",
       "      <td>...</td>\n",
       "      <td>...</td>\n",
       "    </tr>\n",
       "    <tr>\n",
       "      <th>95</th>\n",
       "      <td>12</td>\n",
       "      <td>Female</td>\n",
       "      <td>104.0</td>\n",
       "      <td>Mild</td>\n",
       "      <td>Bangalore</td>\n",
       "      <td>No</td>\n",
       "    </tr>\n",
       "    <tr>\n",
       "      <th>96</th>\n",
       "      <td>51</td>\n",
       "      <td>Female</td>\n",
       "      <td>101.0</td>\n",
       "      <td>Strong</td>\n",
       "      <td>Kolkata</td>\n",
       "      <td>Yes</td>\n",
       "    </tr>\n",
       "    <tr>\n",
       "      <th>97</th>\n",
       "      <td>20</td>\n",
       "      <td>Female</td>\n",
       "      <td>101.0</td>\n",
       "      <td>Mild</td>\n",
       "      <td>Bangalore</td>\n",
       "      <td>No</td>\n",
       "    </tr>\n",
       "    <tr>\n",
       "      <th>98</th>\n",
       "      <td>5</td>\n",
       "      <td>Female</td>\n",
       "      <td>98.0</td>\n",
       "      <td>Strong</td>\n",
       "      <td>Mumbai</td>\n",
       "      <td>No</td>\n",
       "    </tr>\n",
       "    <tr>\n",
       "      <th>99</th>\n",
       "      <td>10</td>\n",
       "      <td>Female</td>\n",
       "      <td>98.0</td>\n",
       "      <td>Strong</td>\n",
       "      <td>Kolkata</td>\n",
       "      <td>Yes</td>\n",
       "    </tr>\n",
       "  </tbody>\n",
       "</table>\n",
       "<p>100 rows × 6 columns</p>\n",
       "</div>"
      ],
      "text/plain": [
       "    age  gender  fever   cough       city has_covid\n",
       "0    60    Male  103.0    Mild    Kolkata        No\n",
       "1    27    Male  100.0    Mild      Delhi       Yes\n",
       "2    42    Male  101.0    Mild      Delhi        No\n",
       "3    31  Female   98.0    Mild    Kolkata        No\n",
       "4    65  Female  101.0    Mild     Mumbai        No\n",
       "..  ...     ...    ...     ...        ...       ...\n",
       "95   12  Female  104.0    Mild  Bangalore        No\n",
       "96   51  Female  101.0  Strong    Kolkata       Yes\n",
       "97   20  Female  101.0    Mild  Bangalore        No\n",
       "98    5  Female   98.0  Strong     Mumbai        No\n",
       "99   10  Female   98.0  Strong    Kolkata       Yes\n",
       "\n",
       "[100 rows x 6 columns]"
      ]
     },
     "execution_count": 8,
     "metadata": {},
     "output_type": "execute_result"
    }
   ],
   "source": [
    "df"
   ]
  },
  {
   "cell_type": "code",
   "execution_count": 9,
   "id": "b8c2a429-5d7e-4315-9b61-570df37906d0",
   "metadata": {},
   "outputs": [
    {
     "data": {
      "text/plain": [
       "age           0\n",
       "gender        0\n",
       "fever        10\n",
       "cough         0\n",
       "city          0\n",
       "has_covid     0\n",
       "dtype: int64"
      ]
     },
     "execution_count": 9,
     "metadata": {},
     "output_type": "execute_result"
    }
   ],
   "source": [
    "df.isnull().sum()\n",
    "# fever --> missing value column"
   ]
  },
  {
   "cell_type": "code",
   "execution_count": 10,
   "id": "935d8389-32a0-4424-af05-0d3b12c92b20",
   "metadata": {},
   "outputs": [
    {
     "data": {
      "text/plain": [
       "cough\n",
       "Mild      62\n",
       "Strong    38\n",
       "Name: count, dtype: int64"
      ]
     },
     "execution_count": 10,
     "metadata": {},
     "output_type": "execute_result"
    }
   ],
   "source": [
    "df['cough'].value_counts()"
   ]
  },
  {
   "cell_type": "code",
   "execution_count": 11,
   "id": "90491b37-2b1e-4b6e-83e5-43234aa888ae",
   "metadata": {},
   "outputs": [],
   "source": [
    "from sklearn.model_selection import train_test_split"
   ]
  },
  {
   "cell_type": "code",
   "execution_count": 12,
   "id": "61ec38ac-01d8-4b2d-8bb3-8583a1cf2e4d",
   "metadata": {},
   "outputs": [],
   "source": [
    "# train_test_split\n",
    "X_train, X_test, y_train, y_test = train_test_split ( df.drop(columns=['has_covid']), df['has_covid'], test_size = .2, random_state=42 )"
   ]
  },
  {
   "cell_type": "code",
   "execution_count": 13,
   "id": "219e9c16-1c49-45a1-ae9f-75b77356d80f",
   "metadata": {},
   "outputs": [
    {
     "data": {
      "text/html": [
       "<div>\n",
       "<style scoped>\n",
       "    .dataframe tbody tr th:only-of-type {\n",
       "        vertical-align: middle;\n",
       "    }\n",
       "\n",
       "    .dataframe tbody tr th {\n",
       "        vertical-align: top;\n",
       "    }\n",
       "\n",
       "    .dataframe thead th {\n",
       "        text-align: right;\n",
       "    }\n",
       "</style>\n",
       "<table border=\"1\" class=\"dataframe\">\n",
       "  <thead>\n",
       "    <tr style=\"text-align: right;\">\n",
       "      <th></th>\n",
       "      <th>age</th>\n",
       "      <th>gender</th>\n",
       "      <th>fever</th>\n",
       "      <th>cough</th>\n",
       "      <th>city</th>\n",
       "    </tr>\n",
       "  </thead>\n",
       "  <tbody>\n",
       "    <tr>\n",
       "      <th>55</th>\n",
       "      <td>81</td>\n",
       "      <td>Female</td>\n",
       "      <td>101.0</td>\n",
       "      <td>Mild</td>\n",
       "      <td>Mumbai</td>\n",
       "    </tr>\n",
       "    <tr>\n",
       "      <th>88</th>\n",
       "      <td>5</td>\n",
       "      <td>Female</td>\n",
       "      <td>100.0</td>\n",
       "      <td>Mild</td>\n",
       "      <td>Kolkata</td>\n",
       "    </tr>\n",
       "    <tr>\n",
       "      <th>26</th>\n",
       "      <td>19</td>\n",
       "      <td>Female</td>\n",
       "      <td>100.0</td>\n",
       "      <td>Mild</td>\n",
       "      <td>Kolkata</td>\n",
       "    </tr>\n",
       "    <tr>\n",
       "      <th>42</th>\n",
       "      <td>27</td>\n",
       "      <td>Male</td>\n",
       "      <td>100.0</td>\n",
       "      <td>Mild</td>\n",
       "      <td>Delhi</td>\n",
       "    </tr>\n",
       "    <tr>\n",
       "      <th>69</th>\n",
       "      <td>73</td>\n",
       "      <td>Female</td>\n",
       "      <td>103.0</td>\n",
       "      <td>Mild</td>\n",
       "      <td>Delhi</td>\n",
       "    </tr>\n",
       "    <tr>\n",
       "      <th>...</th>\n",
       "      <td>...</td>\n",
       "      <td>...</td>\n",
       "      <td>...</td>\n",
       "      <td>...</td>\n",
       "      <td>...</td>\n",
       "    </tr>\n",
       "    <tr>\n",
       "      <th>60</th>\n",
       "      <td>24</td>\n",
       "      <td>Female</td>\n",
       "      <td>102.0</td>\n",
       "      <td>Strong</td>\n",
       "      <td>Bangalore</td>\n",
       "    </tr>\n",
       "    <tr>\n",
       "      <th>71</th>\n",
       "      <td>75</td>\n",
       "      <td>Female</td>\n",
       "      <td>104.0</td>\n",
       "      <td>Strong</td>\n",
       "      <td>Delhi</td>\n",
       "    </tr>\n",
       "    <tr>\n",
       "      <th>14</th>\n",
       "      <td>51</td>\n",
       "      <td>Male</td>\n",
       "      <td>104.0</td>\n",
       "      <td>Mild</td>\n",
       "      <td>Bangalore</td>\n",
       "    </tr>\n",
       "    <tr>\n",
       "      <th>92</th>\n",
       "      <td>82</td>\n",
       "      <td>Female</td>\n",
       "      <td>102.0</td>\n",
       "      <td>Strong</td>\n",
       "      <td>Kolkata</td>\n",
       "    </tr>\n",
       "    <tr>\n",
       "      <th>51</th>\n",
       "      <td>11</td>\n",
       "      <td>Female</td>\n",
       "      <td>100.0</td>\n",
       "      <td>Strong</td>\n",
       "      <td>Kolkata</td>\n",
       "    </tr>\n",
       "  </tbody>\n",
       "</table>\n",
       "<p>80 rows × 5 columns</p>\n",
       "</div>"
      ],
      "text/plain": [
       "    age  gender  fever   cough       city\n",
       "55   81  Female  101.0    Mild     Mumbai\n",
       "88    5  Female  100.0    Mild    Kolkata\n",
       "26   19  Female  100.0    Mild    Kolkata\n",
       "42   27    Male  100.0    Mild      Delhi\n",
       "69   73  Female  103.0    Mild      Delhi\n",
       "..  ...     ...    ...     ...        ...\n",
       "60   24  Female  102.0  Strong  Bangalore\n",
       "71   75  Female  104.0  Strong      Delhi\n",
       "14   51    Male  104.0    Mild  Bangalore\n",
       "92   82  Female  102.0  Strong    Kolkata\n",
       "51   11  Female  100.0  Strong    Kolkata\n",
       "\n",
       "[80 rows x 5 columns]"
      ]
     },
     "execution_count": 13,
     "metadata": {},
     "output_type": "execute_result"
    }
   ],
   "source": [
    "X_train"
   ]
  },
  {
   "cell_type": "code",
   "execution_count": 14,
   "id": "778bf002-4357-4b5b-9f02-c14d8dd799d9",
   "metadata": {},
   "outputs": [
    {
     "data": {
      "text/plain": [
       "55    Yes\n",
       "88     No\n",
       "26    Yes\n",
       "42    Yes\n",
       "69     No\n",
       "     ... \n",
       "60    Yes\n",
       "71     No\n",
       "14     No\n",
       "92     No\n",
       "51    Yes\n",
       "Name: has_covid, Length: 80, dtype: object"
      ]
     },
     "execution_count": 14,
     "metadata": {},
     "output_type": "execute_result"
    }
   ],
   "source": [
    "y_train"
   ]
  },
  {
   "cell_type": "code",
   "execution_count": 15,
   "id": "25154218-d2d0-4721-ae08-7e6deaa7b336",
   "metadata": {},
   "outputs": [],
   "source": [
    "# age and fever ---> numerical columns, fever has missing values  ---> SimpleImputer\n",
    "# gender and city ---> nominal categorical columns  ---> One Hot Encoding, OHE\n",
    "# cough --> ordinal categorical column ---> ordinal encoding (it's a feature column)\n",
    "# has_covid ---> nominal categorical column ---> label encoding (it's a targent column)"
   ]
  },
  {
   "cell_type": "code",
   "execution_count": 16,
   "id": "0163707f-aa2d-4700-92a2-ef3808dbe08e",
   "metadata": {},
   "outputs": [],
   "source": [
    "from sklearn.compose import ColumnTransformer \n",
    "from sklearn.impute import SimpleImputer\n",
    "from sklearn.preprocessing import OrdinalEncoder, OneHotEncoder"
   ]
  },
  {
   "cell_type": "code",
   "execution_count": 24,
   "id": "6c9c7aa9-335f-474c-b3fb-eb510c7d8e09",
   "metadata": {},
   "outputs": [],
   "source": [
    "# column_transformer_object = ColumnTransformer(transformers=[ tuple(s) ], remainder='passthrough or drop')\n",
    "column_transformer_obj = ColumnTransformer(transformers=[\n",
    "    ('tnf1', SimpleImputer(), ['fever'] ),\n",
    "    ('tnf2', OrdinalEncoder(categories=[['Mild', 'Strong']]), ['cough']),\n",
    "    ('tnf3', OneHotEncoder(sparse_output=False, drop='first'), ['gender', 'city'] )\n",
    "], remainder='passthrough')\n",
    "# categories expect list of list \n",
    "# sparse_output = False --> dense output {numpy/dataframe, all elements are stored explicitly } \n",
    "# sparse_output = True --> sparse output {sparse matrix, only non zero elements are stored }\n",
    "# OHE parameter drop = 'first' --> remove multicolinearity between columns\n",
    "# remainder parameter specifies what to do with columns which aren't subjected to transformation. passthrough --> leave as it  is, drop --> remove"
   ]
  },
  {
   "cell_type": "code",
   "execution_count": 22,
   "id": "92ca0721-c385-410e-9526-e4c4c9000e36",
   "metadata": {},
   "outputs": [
    {
     "data": {
      "text/plain": [
       "(80, 7)"
      ]
     },
     "execution_count": 22,
     "metadata": {},
     "output_type": "execute_result"
    }
   ],
   "source": [
    "column_transformer_obj.fit_transform(X_train).shape"
   ]
  },
  {
   "cell_type": "code",
   "execution_count": 23,
   "id": "590832b9-b580-4fc3-95e3-7ac008b8d62c",
   "metadata": {
    "scrolled": true
   },
   "outputs": [
    {
     "data": {
      "text/plain": [
       "array([[101.,   0.,   0.,   0.,   0.,   1.,  81.],\n",
       "       [100.,   0.,   0.,   0.,   1.,   0.,   5.],\n",
       "       [100.,   0.,   0.,   0.,   1.,   0.,  19.],\n",
       "       [100.,   0.,   1.,   1.,   0.,   0.,  27.],\n",
       "       [103.,   0.,   0.,   1.,   0.,   0.,  73.],\n",
       "       [103.,   1.,   1.,   0.,   1.,   0.,  70.],\n",
       "       [102.,   0.,   0.,   1.,   0.,   0.,  49.],\n",
       "       [101.,   1.,   0.,   0.,   1.,   0.,  51.],\n",
       "       [101.,   0.,   0.,   1.,   0.,   0.,  64.],\n",
       "       [101.,   0.,   0.,   0.,   1.,   0.,  83.],\n",
       "       [ 98.,   0.,   0.,   0.,   0.,   1.,  65.],\n",
       "       [104.,   0.,   0.,   0.,   0.,   0.,  18.],\n",
       "       [103.,   0.,   0.,   0.,   0.,   0.,  16.],\n",
       "       [104.,   0.,   1.,   0.,   1.,   0.,  16.],\n",
       "       [100.,   0.,   1.,   0.,   1.,   0.,  27.],\n",
       "       [101.,   0.,   0.,   0.,   0.,   0.,  84.],\n",
       "       [104.,   0.,   1.,   0.,   1.,   0.,  51.],\n",
       "       [102.,   0.,   0.,   0.,   0.,   0.,  69.],\n",
       "       [102.,   1.,   0.,   0.,   0.,   0.,  82.],\n",
       "       [103.,   0.,   0.,   0.,   1.,   0.,  69.],\n",
       "       [104.,   0.,   1.,   0.,   0.,   1.,  44.],\n",
       "       [102.,   0.,   1.,   0.,   0.,   1.,  74.],\n",
       "       [101.,   1.,   0.,   0.,   0.,   1.,  20.],\n",
       "       [104.,   0.,   0.,   0.,   0.,   0.,  12.],\n",
       "       [102.,   1.,   0.,   1.,   0.,   0.,  33.],\n",
       "       [101.,   1.,   0.,   0.,   0.,   0.,  42.],\n",
       "       [ 99.,   0.,   1.,   1.,   0.,   0.,  65.],\n",
       "       [101.,   0.,   1.,   0.,   0.,   1.,  23.],\n",
       "       [104.,   1.,   0.,   0.,   0.,   0.,  56.],\n",
       "       [102.,   0.,   1.,   0.,   0.,   0.,  64.],\n",
       "       [100.,   1.,   0.,   0.,   1.,   0.,  13.],\n",
       "       [ 98.,   0.,   0.,   0.,   1.,   0.,  31.],\n",
       "       [ 98.,   1.,   0.,   1.,   0.,   0.,  40.],\n",
       "       [101.,   0.,   0.,   1.,   0.,   0.,  49.],\n",
       "       [100.,   1.,   0.,   0.,   0.,   0.,  19.],\n",
       "       [100.,   0.,   1.,   0.,   0.,   0.,  11.],\n",
       "       [101.,   1.,   1.,   0.,   0.,   0.,  14.],\n",
       "       [104.,   0.,   1.,   0.,   0.,   1.,  42.],\n",
       "       [101.,   0.,   0.,   0.,   0.,   0.,  38.],\n",
       "       [103.,   1.,   1.,   0.,   0.,   0.,  46.],\n",
       "       [101.,   1.,   1.,   0.,   1.,   0.,  71.],\n",
       "       [ 98.,   1.,   0.,   0.,   1.,   0.,  10.],\n",
       "       [ 99.,   0.,   0.,   0.,   0.,   1.,  60.],\n",
       "       [ 99.,   0.,   0.,   0.,   0.,   0.,  22.],\n",
       "       [101.,   0.,   1.,   1.,   0.,   0.,  19.],\n",
       "       [ 99.,   0.,   1.,   0.,   0.,   0.,  65.],\n",
       "       [101.,   0.,   0.,   0.,   0.,   1.,  19.],\n",
       "       [104.,   1.,   0.,   0.,   1.,   0.,  54.],\n",
       "       [ 98.,   1.,   0.,   0.,   0.,   1.,  81.],\n",
       "       [101.,   0.,   0.,   0.,   0.,   0.,  20.],\n",
       "       [103.,   0.,   0.,   0.,   1.,   0.,  48.],\n",
       "       [101.,   0.,   1.,   0.,   1.,   0.,  82.],\n",
       "       [ 98.,   1.,   1.,   0.,   0.,   1.,  23.],\n",
       "       [ 99.,   1.,   1.,   0.,   0.,   0.,  66.],\n",
       "       [ 98.,   1.,   0.,   0.,   0.,   1.,   5.],\n",
       "       [ 99.,   1.,   0.,   0.,   0.,   0.,  49.],\n",
       "       [102.,   0.,   1.,   0.,   1.,   0.,   5.],\n",
       "       [101.,   1.,   0.,   1.,   0.,   0.,  34.],\n",
       "       [101.,   1.,   1.,   0.,   1.,   0.,  79.],\n",
       "       [104.,   0.,   0.,   0.,   1.,   0.,   6.],\n",
       "       [100.,   0.,   1.,   0.,   0.,   0.,  10.],\n",
       "       [ 98.,   1.,   0.,   0.,   0.,   1.,  69.],\n",
       "       [100.,   0.,   1.,   0.,   1.,   0.,  55.],\n",
       "       [101.,   1.,   0.,   0.,   0.,   1.,  34.],\n",
       "       [100.,   0.,   1.,   1.,   0.,   0.,  27.],\n",
       "       [100.,   1.,   0.,   0.,   0.,   0.,  47.],\n",
       "       [ 98.,   0.,   1.,   0.,   0.,   0.,  73.],\n",
       "       [101.,   0.,   1.,   1.,   0.,   0.,  42.],\n",
       "       [ 98.,   0.,   0.,   1.,   0.,   0.,  80.],\n",
       "       [101.,   1.,   1.,   0.,   0.,   0.,  47.],\n",
       "       [101.,   0.,   1.,   1.,   0.,   0.,  38.],\n",
       "       [104.,   1.,   0.,   1.,   0.,   0.,  34.],\n",
       "       [104.,   0.,   1.,   0.,   0.,   0.,  25.],\n",
       "       [ 98.,   0.,   1.,   0.,   1.,   0.,  24.],\n",
       "       [ 98.,   1.,   1.,   0.,   0.,   0.,  12.],\n",
       "       [102.,   1.,   0.,   0.,   0.,   0.,  24.],\n",
       "       [104.,   1.,   0.,   1.,   0.,   0.,  75.],\n",
       "       [104.,   0.,   1.,   0.,   0.,   0.,  51.],\n",
       "       [102.,   1.,   0.,   0.,   1.,   0.,  82.],\n",
       "       [100.,   1.,   0.,   0.,   1.,   0.,  11.]])"
      ]
     },
     "execution_count": 23,
     "metadata": {},
     "output_type": "execute_result"
    }
   ],
   "source": [
    "column_transformer_obj.fit_transform(X_train)"
   ]
  },
  {
   "cell_type": "code",
   "execution_count": 20,
   "id": "2913f217-59f3-4eb0-88ba-ed7fd8708236",
   "metadata": {},
   "outputs": [],
   "source": [
    "# from sklearn.compose import ColumnTransformer\n",
    "# syntax: column_transformer_obj = ColumnTransformer (transformers, remainder).\n",
    "# transformer ---> list of tuples , remainder = 'passthrough/drop'\n",
    "# tuples takes 3 parameters ('given_identification', transformer_function(), ['name_of_column(s)_of_interest'])"
   ]
  },
  {
   "cell_type": "code",
   "execution_count": null,
   "id": "845ed5ed-a5e5-4e02-863d-3451a2f4c686",
   "metadata": {},
   "outputs": [],
   "source": []
  },
  {
   "cell_type": "code",
   "execution_count": null,
   "id": "26412b32-111b-403c-9684-0ca2719bbe43",
   "metadata": {},
   "outputs": [],
   "source": []
  }
 ],
 "metadata": {
  "kernelspec": {
   "display_name": "Python 3 (ipykernel)",
   "language": "python",
   "name": "python3"
  },
  "language_info": {
   "codemirror_mode": {
    "name": "ipython",
    "version": 3
   },
   "file_extension": ".py",
   "mimetype": "text/x-python",
   "name": "python",
   "nbconvert_exporter": "python",
   "pygments_lexer": "ipython3",
   "version": "3.12.1"
  }
 },
 "nbformat": 4,
 "nbformat_minor": 5
}
