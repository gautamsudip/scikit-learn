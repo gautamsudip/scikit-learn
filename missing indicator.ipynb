{
 "cells": [
  {
   "cell_type": "code",
   "execution_count": 2,
   "id": "8de60305-1cf8-4ec2-8fca-585318972455",
   "metadata": {},
   "outputs": [],
   "source": [
    "# create an additional feature that indicates whether a value was originally missing.\n",
    "# This can be useful because the fact that a value was missing can itself be predictive.\n",
    "# Sometimes this can improve performance of model . Lets see how "
   ]
  },
  {
   "cell_type": "code",
   "execution_count": 17,
   "id": "5beb1b1e-db3d-4d60-8f64-d010b7a5280f",
   "metadata": {},
   "outputs": [
    {
     "name": "stdout",
     "output_type": "stream",
     "text": [
      "Accuracy without missing indicator:\n"
     ]
    },
    {
     "data": {
      "text/plain": [
       "0.6145251396648045"
      ]
     },
     "execution_count": 17,
     "metadata": {},
     "output_type": "execute_result"
    }
   ],
   "source": [
    "#                                                without missing indicator \n",
    "import numpy as np\n",
    "import pandas as pd\n",
    "\n",
    "from sklearn.model_selection import train_test_split\n",
    "from sklearn.impute import MissingIndicator,SimpleImputer\n",
    "from sklearn.linear_model import LogisticRegression\n",
    "from sklearn.metrics import accuracy_score\n",
    "\n",
    "df = pd.read_csv('csv files/titanic.csv',usecols=['Age','Fare','Survived'])\n",
    "X = df.drop(columns=['Survived'])\n",
    "y = df['Survived']\n",
    "X_train,X_test,y_train,y_test = train_test_split(X,y,test_size=0.2,random_state=2)\n",
    "\n",
    "si = SimpleImputer()\n",
    "X_train_trf = si.fit_transform(X_train)\n",
    "X_test_trf = si.transform(X_test)\n",
    "\n",
    "clf = LogisticRegression()\n",
    "\n",
    "clf.fit(X_train_trf,y_train)\n",
    "\n",
    "y_pred = clf.predict(X_test_trf)\n",
    "print('Accuracy without missing indicator:')\n",
    "accuracy_score(y_test, y_pred)"
   ]
  },
  {
   "cell_type": "code",
   "execution_count": 19,
   "id": "00949d8d-8ff9-4358-8813-e93cef9b48bd",
   "metadata": {},
   "outputs": [
    {
     "name": "stdout",
     "output_type": "stream",
     "text": [
      "Accuracy with missing indicator:\n",
      "0.6312849162011173\n"
     ]
    }
   ],
   "source": [
    "# Now lets use the concept of missing indicator concept \n",
    "# Load data\n",
    "df = pd.read_csv('csv files/titanic.csv', usecols=['Age', 'Fare', 'Survived'])\n",
    "\n",
    "# Define features and target\n",
    "X = df.drop(columns=['Survived'])\n",
    "y = df['Survived']\n",
    "\n",
    "# Split data into train and test sets\n",
    "X_train, X_test, y_train, y_test = train_test_split(X, y, test_size=0.2, random_state=2)\n",
    "\n",
    "# Use SimpleImputer with add_indicator=True\n",
    "si = SimpleImputer(add_indicator=True)\n",
    "X_train_trf2 = si.fit_transform(X_train)\n",
    "X_test_trf2 = si.transform(X_test)\n",
    "\n",
    "# Train the logistic regression model\n",
    "clf = LogisticRegression()\n",
    "clf.fit(X_train_trf2, y_train)\n",
    "\n",
    "# Predict on the test set\n",
    "y_pred = clf.predict(X_test_trf2)\n",
    "\n",
    "# Calculate and print accuracy\n",
    "accuracy = accuracy_score(y_test, y_pred)\n",
    "print('Accuracy with missing indicator:')\n",
    "print(accuracy)"
   ]
  },
  {
   "cell_type": "code",
   "execution_count": 20,
   "id": "4d0dcfcd-85bd-4b43-94d7-08a35580e686",
   "metadata": {},
   "outputs": [],
   "source": [
    "# Though it looks suprising but this sometime can be effective. You just need to specifu missing values to your ml model."
   ]
  },
  {
   "cell_type": "code",
   "execution_count": 21,
   "id": "6fb02247-31c0-49a5-8241-e1f3af1902d4",
   "metadata": {},
   "outputs": [
    {
     "data": {
      "text/plain": [
       "array([[ 40.        ,  27.7208    ,   0.        ],\n",
       "       [  4.        ,  16.7       ,   0.        ],\n",
       "       [ 47.        ,   9.        ,   0.        ],\n",
       "       ...,\n",
       "       [ 71.        ,  49.5042    ,   0.        ],\n",
       "       [ 29.78590426, 221.7792    ,   1.        ],\n",
       "       [ 29.78590426,  25.925     ,   1.        ]])"
      ]
     },
     "execution_count": 21,
     "metadata": {},
     "output_type": "execute_result"
    }
   ],
   "source": [
    "X_train_trf2 "
   ]
  },
  {
   "cell_type": "code",
   "execution_count": 22,
   "id": "aa514642-00a1-48b6-8bf3-e535ac426250",
   "metadata": {},
   "outputs": [],
   "source": [
    "# third column --> o (value in age or fare was not missing) and 1 (value in age or fare was missing)"
   ]
  },
  {
   "cell_type": "code",
   "execution_count": null,
   "id": "96893d65-7c4e-447f-8ce0-a27318ce107c",
   "metadata": {},
   "outputs": [],
   "source": []
  }
 ],
 "metadata": {
  "kernelspec": {
   "display_name": "Python 3 (ipykernel)",
   "language": "python",
   "name": "python3"
  },
  "language_info": {
   "codemirror_mode": {
    "name": "ipython",
    "version": 3
   },
   "file_extension": ".py",
   "mimetype": "text/x-python",
   "name": "python",
   "nbconvert_exporter": "python",
   "pygments_lexer": "ipython3",
   "version": "3.12.1"
  }
 },
 "nbformat": 4,
 "nbformat_minor": 5
}
