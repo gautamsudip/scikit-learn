{
 "cells": [
  {
   "cell_type": "code",
   "execution_count": 30,
   "id": "de398fa0-0eef-40cb-90bb-70c99b440b8f",
   "metadata": {},
   "outputs": [],
   "source": [
    "#                                    Imputation (filling missing values) in Numerical column\n",
    "# mean/median imputation, Arbitrary imputation, End of distribution imputation, Random imputation "
   ]
  },
  {
   "cell_type": "code",
   "execution_count": 31,
   "id": "042c8bb5-e239-40a4-9953-fc294bf83389",
   "metadata": {},
   "outputs": [],
   "source": [
    "# 1. mean/median (for normal distribution mean will be better and for skewed distribution median will be better)\n",
    "# cons: not much reliable, can change distribution of data, can introduce outliers, alter covariance/correlation between columns"
   ]
  },
  {
   "cell_type": "code",
   "execution_count": 32,
   "id": "ed327680-1f99-42d7-b5a7-725c48c5c8e6",
   "metadata": {},
   "outputs": [],
   "source": [
    "import numpy as np\n",
    "import pandas as pd\n",
    "import matplotlib.pyplot as plt"
   ]
  },
  {
   "cell_type": "code",
   "execution_count": 33,
   "id": "23356a8d-9233-41aa-b3e6-77fcaa3c234e",
   "metadata": {},
   "outputs": [],
   "source": [
    "from sklearn.model_selection import train_test_split\n",
    "from sklearn.impute import SimpleImputer\n",
    "from sklearn.compose import ColumnTransformer"
   ]
  },
  {
   "cell_type": "code",
   "execution_count": 34,
   "id": "7a125a33-3e2d-47e1-8c17-f595c948d493",
   "metadata": {},
   "outputs": [
    {
     "data": {
      "text/html": [
       "<div>\n",
       "<style scoped>\n",
       "    .dataframe tbody tr th:only-of-type {\n",
       "        vertical-align: middle;\n",
       "    }\n",
       "\n",
       "    .dataframe tbody tr th {\n",
       "        vertical-align: top;\n",
       "    }\n",
       "\n",
       "    .dataframe thead th {\n",
       "        text-align: right;\n",
       "    }\n",
       "</style>\n",
       "<table border=\"1\" class=\"dataframe\">\n",
       "  <thead>\n",
       "    <tr style=\"text-align: right;\">\n",
       "      <th></th>\n",
       "      <th>Age</th>\n",
       "      <th>Fare</th>\n",
       "      <th>Family</th>\n",
       "      <th>Survived</th>\n",
       "    </tr>\n",
       "  </thead>\n",
       "  <tbody>\n",
       "    <tr>\n",
       "      <th>0</th>\n",
       "      <td>22.0</td>\n",
       "      <td>7.2500</td>\n",
       "      <td>1</td>\n",
       "      <td>0</td>\n",
       "    </tr>\n",
       "    <tr>\n",
       "      <th>1</th>\n",
       "      <td>38.0</td>\n",
       "      <td>71.2833</td>\n",
       "      <td>1</td>\n",
       "      <td>1</td>\n",
       "    </tr>\n",
       "    <tr>\n",
       "      <th>2</th>\n",
       "      <td>26.0</td>\n",
       "      <td>7.9250</td>\n",
       "      <td>0</td>\n",
       "      <td>1</td>\n",
       "    </tr>\n",
       "    <tr>\n",
       "      <th>3</th>\n",
       "      <td>35.0</td>\n",
       "      <td>53.1000</td>\n",
       "      <td>1</td>\n",
       "      <td>1</td>\n",
       "    </tr>\n",
       "    <tr>\n",
       "      <th>4</th>\n",
       "      <td>35.0</td>\n",
       "      <td>8.0500</td>\n",
       "      <td>0</td>\n",
       "      <td>0</td>\n",
       "    </tr>\n",
       "    <tr>\n",
       "      <th>...</th>\n",
       "      <td>...</td>\n",
       "      <td>...</td>\n",
       "      <td>...</td>\n",
       "      <td>...</td>\n",
       "    </tr>\n",
       "    <tr>\n",
       "      <th>886</th>\n",
       "      <td>27.0</td>\n",
       "      <td>13.0000</td>\n",
       "      <td>0</td>\n",
       "      <td>0</td>\n",
       "    </tr>\n",
       "    <tr>\n",
       "      <th>887</th>\n",
       "      <td>19.0</td>\n",
       "      <td>30.0000</td>\n",
       "      <td>0</td>\n",
       "      <td>1</td>\n",
       "    </tr>\n",
       "    <tr>\n",
       "      <th>888</th>\n",
       "      <td>NaN</td>\n",
       "      <td>23.4500</td>\n",
       "      <td>3</td>\n",
       "      <td>0</td>\n",
       "    </tr>\n",
       "    <tr>\n",
       "      <th>889</th>\n",
       "      <td>26.0</td>\n",
       "      <td>NaN</td>\n",
       "      <td>0</td>\n",
       "      <td>1</td>\n",
       "    </tr>\n",
       "    <tr>\n",
       "      <th>890</th>\n",
       "      <td>32.0</td>\n",
       "      <td>7.7500</td>\n",
       "      <td>0</td>\n",
       "      <td>0</td>\n",
       "    </tr>\n",
       "  </tbody>\n",
       "</table>\n",
       "<p>891 rows × 4 columns</p>\n",
       "</div>"
      ],
      "text/plain": [
       "      Age     Fare  Family  Survived\n",
       "0    22.0   7.2500       1         0\n",
       "1    38.0  71.2833       1         1\n",
       "2    26.0   7.9250       0         1\n",
       "3    35.0  53.1000       1         1\n",
       "4    35.0   8.0500       0         0\n",
       "..    ...      ...     ...       ...\n",
       "886  27.0  13.0000       0         0\n",
       "887  19.0  30.0000       0         1\n",
       "888   NaN  23.4500       3         0\n",
       "889  26.0      NaN       0         1\n",
       "890  32.0   7.7500       0         0\n",
       "\n",
       "[891 rows x 4 columns]"
      ]
     },
     "execution_count": 34,
     "metadata": {},
     "output_type": "execute_result"
    }
   ],
   "source": [
    "df = pd.read_csv('csv files/titanic_toy.csv')\n",
    "df"
   ]
  },
  {
   "cell_type": "code",
   "execution_count": 35,
   "id": "33e8edbf-4313-4a8f-8cb4-3e3cdce0efd9",
   "metadata": {},
   "outputs": [
    {
     "data": {
      "text/plain": [
       "Age         19.865320\n",
       "Fare         5.050505\n",
       "Family       0.000000\n",
       "Survived     0.000000\n",
       "dtype: float64"
      ]
     },
     "execution_count": 35,
     "metadata": {},
     "output_type": "execute_result"
    }
   ],
   "source": [
    "df.isnull().mean()*100\n",
    "# Age has 19.86% and Fare has 5% missing values"
   ]
  },
  {
   "cell_type": "code",
   "execution_count": 36,
   "id": "cf6a7439-aaef-45d9-8770-66c08e887813",
   "metadata": {},
   "outputs": [],
   "source": [
    "x = df.drop(columns=['Survived'])   # feature\n",
    "y = df['Survived']                  # target"
   ]
  },
  {
   "cell_type": "code",
   "execution_count": 37,
   "id": "e198a83e-d41f-4477-b997-f6e9e255b202",
   "metadata": {},
   "outputs": [
    {
     "data": {
      "text/plain": [
       "Age       18.820225\n",
       "Fare       4.915730\n",
       "Family     0.000000\n",
       "dtype: float64"
      ]
     },
     "execution_count": 37,
     "metadata": {},
     "output_type": "execute_result"
    }
   ],
   "source": [
    "X_train, X_test, y_train, y_test = train_test_split (x, y, test_size=.2, random_state=11)\n",
    "X_train.isnull().mean()*100"
   ]
  },
  {
   "cell_type": "code",
   "execution_count": 41,
   "id": "54212e9c-1dc4-4327-805f-4c4bb8b82466",
   "metadata": {},
   "outputs": [],
   "source": [
    "# let's impute using numpy and pandas\n",
    "mean_age = X_train['Age'].mean()\n",
    "median_age = X_train['Age'].median()\n",
    "\n",
    "mean_fare = X_train['Fare'].mean()\n",
    "median_fare = X_train['Fare'].median()\n",
    "\n",
    "# filling missing values\n",
    "X_train['age_filled_with_mean'] = X_train['Age'].fillna(mean_age)\n",
    "X_train['age_filled_with_median'] = X_train['Age'].fillna(median_age)\n",
    "\n",
    "X_train['fare_filled_with_mean'] = X_train['Fare'].fillna(mean_fare)\n",
    "X_train['fare_filled_with_median'] = X_train['Fare'].fillna(median_fare)\n",
    "# fillna will not alter present value it only fill where there is missing place"
   ]
  },
  {
   "cell_type": "code",
   "execution_count": 42,
   "id": "0c212be1-f57c-494e-9549-56340ec3dce2",
   "metadata": {},
   "outputs": [
    {
     "data": {
      "text/html": [
       "<div>\n",
       "<style scoped>\n",
       "    .dataframe tbody tr th:only-of-type {\n",
       "        vertical-align: middle;\n",
       "    }\n",
       "\n",
       "    .dataframe tbody tr th {\n",
       "        vertical-align: top;\n",
       "    }\n",
       "\n",
       "    .dataframe thead th {\n",
       "        text-align: right;\n",
       "    }\n",
       "</style>\n",
       "<table border=\"1\" class=\"dataframe\">\n",
       "  <thead>\n",
       "    <tr style=\"text-align: right;\">\n",
       "      <th></th>\n",
       "      <th>Age</th>\n",
       "      <th>Fare</th>\n",
       "      <th>Family</th>\n",
       "      <th>age_filled_with_mean</th>\n",
       "      <th>age_filled_with_median</th>\n",
       "      <th>fare_filled_with_mean</th>\n",
       "      <th>fare_filled_with_median</th>\n",
       "    </tr>\n",
       "  </thead>\n",
       "  <tbody>\n",
       "    <tr>\n",
       "      <th>568</th>\n",
       "      <td>NaN</td>\n",
       "      <td>7.2292</td>\n",
       "      <td>0</td>\n",
       "      <td>29.60583</td>\n",
       "      <td>28.0</td>\n",
       "      <td>7.2292</td>\n",
       "      <td>7.2292</td>\n",
       "    </tr>\n",
       "    <tr>\n",
       "      <th>654</th>\n",
       "      <td>18.0</td>\n",
       "      <td>6.7500</td>\n",
       "      <td>0</td>\n",
       "      <td>18.00000</td>\n",
       "      <td>18.0</td>\n",
       "      <td>6.7500</td>\n",
       "      <td>6.7500</td>\n",
       "    </tr>\n",
       "    <tr>\n",
       "      <th>773</th>\n",
       "      <td>NaN</td>\n",
       "      <td>7.2250</td>\n",
       "      <td>0</td>\n",
       "      <td>29.60583</td>\n",
       "      <td>28.0</td>\n",
       "      <td>7.2250</td>\n",
       "      <td>7.2250</td>\n",
       "    </tr>\n",
       "    <tr>\n",
       "      <th>779</th>\n",
       "      <td>43.0</td>\n",
       "      <td>211.3375</td>\n",
       "      <td>1</td>\n",
       "      <td>43.00000</td>\n",
       "      <td>43.0</td>\n",
       "      <td>211.3375</td>\n",
       "      <td>211.3375</td>\n",
       "    </tr>\n",
       "    <tr>\n",
       "      <th>759</th>\n",
       "      <td>33.0</td>\n",
       "      <td>86.5000</td>\n",
       "      <td>0</td>\n",
       "      <td>33.00000</td>\n",
       "      <td>33.0</td>\n",
       "      <td>86.5000</td>\n",
       "      <td>86.5000</td>\n",
       "    </tr>\n",
       "  </tbody>\n",
       "</table>\n",
       "</div>"
      ],
      "text/plain": [
       "      Age      Fare  Family  age_filled_with_mean  age_filled_with_median  \\\n",
       "568   NaN    7.2292       0              29.60583                    28.0   \n",
       "654  18.0    6.7500       0              18.00000                    18.0   \n",
       "773   NaN    7.2250       0              29.60583                    28.0   \n",
       "779  43.0  211.3375       1              43.00000                    43.0   \n",
       "759  33.0   86.5000       0              33.00000                    33.0   \n",
       "\n",
       "     fare_filled_with_mean  fare_filled_with_median  \n",
       "568                 7.2292                   7.2292  \n",
       "654                 6.7500                   6.7500  \n",
       "773                 7.2250                   7.2250  \n",
       "779               211.3375                 211.3375  \n",
       "759                86.5000                  86.5000  "
      ]
     },
     "execution_count": 42,
     "metadata": {},
     "output_type": "execute_result"
    }
   ],
   "source": [
    "X_train.sample(5)"
   ]
  },
  {
   "cell_type": "code",
   "execution_count": 51,
   "id": "55b09ee7-7bb9-44f0-b683-a7e54f35f201",
   "metadata": {},
   "outputs": [
    {
     "name": "stdout",
     "output_type": "stream",
     "text": [
      "Original Age variable variance:  213.5172805049984\n",
      "Age Variance after mean imputation:  173.27633031137003\n",
      "Age Variance after median imputation:  173.6708624802462\n",
      "\n",
      "Original Fare variable variance:  2686.9632753477094\n",
      "Fare Variance after mean imputation:  2554.693634507808\n",
      "Fare Variance after median imputation:  2571.0565152445106\n"
     ]
    }
   ],
   "source": [
    "print('Original Age variable variance: ', X_train['Age'].var())\n",
    "print('Age Variance after mean imputation: ', X_train['age_filled_with_mean'].var())\n",
    "print('Age Variance after median imputation: ', X_train['age_filled_with_median'].var())\n",
    "\n",
    "print()\n",
    "\n",
    "print('Original Fare variable variance: ', X_train['Fare'].var())\n",
    "print('Fare Variance after mean imputation: ', X_train['fare_filled_with_mean'].var())\n",
    "print('Fare Variance after median imputation: ', X_train['fare_filled_with_median'].var())\n",
    "# since age column have about 19% of missing value so variance shrink in age also high but not in fare"
   ]
  },
  {
   "cell_type": "code",
   "execution_count": 49,
   "id": "c451fb9c-0fc4-4c4c-8ddc-728d691da8d9",
   "metadata": {},
   "outputs": [
    {
     "data": {
      "text/plain": [
       "<matplotlib.legend.Legend at 0x21f18df6180>"
      ]
     },
     "execution_count": 49,
     "metadata": {},
     "output_type": "execute_result"
    },
    {
     "data": {
      "image/png": "[encoded data removed]",
      "text/plain": [
       "<Figure size 640x480 with 1 Axes>"
      ]
     },
     "metadata": {},
     "output_type": "display_data"
    }
   ],
   "source": [
    "fig = plt.figure()\n",
    "ax = fig.add_subplot(111)\n",
    "\n",
    "# original variable distribution\n",
    "X_train['Age'].plot(kind='kde', ax=ax)\n",
    "\n",
    "# variable imputed with the mean\n",
    "X_train['age_filled_with_mean'].plot(kind='kde', ax=ax, color='green')\n",
    "\n",
    "# variable imputed with the median\n",
    "X_train['age_filled_with_median'].plot(kind='kde', ax=ax, color='red')\n",
    "\n",
    "# add legends\n",
    "lines, labels = ax.get_legend_handles_labels()\n",
    "ax.legend(lines, labels, loc='best')\n",
    "# distributions before and after filling missing values with mean and median differ much . Red Flag"
   ]
  },
  {
   "cell_type": "code",
   "execution_count": 50,
   "id": "76ca67e6-5016-48f9-83a5-5a374cd3b4a1",
   "metadata": {},
   "outputs": [
    {
     "data": {
      "text/plain": [
       "<matplotlib.legend.Legend at 0x21f18e15340>"
      ]
     },
     "execution_count": 50,
     "metadata": {},
     "output_type": "execute_result"
    },
    {
     "data": {
      "image/png": "[encoded data removed]",
      "text/plain": [
       "<Figure size 640x480 with 1 Axes>"
      ]
     },
     "metadata": {},
     "output_type": "display_data"
    }
   ],
   "source": [
    "fig = plt.figure()\n",
    "ax = fig.add_subplot(111)\n",
    "\n",
    "# original variable distribution\n",
    "X_train['Fare'].plot(kind='kde', ax=ax)\n",
    "\n",
    "# variable imputed with the mean\n",
    "X_train['fare_filled_with_mean'].plot(kind='kde', ax=ax, color='green')\n",
    "\n",
    "# variable imputed with the median\n",
    "X_train['fare_filled_with_median'].plot(kind='kde', ax=ax, color='red')\n",
    "\n",
    "# add legends\n",
    "lines, labels = ax.get_legend_handles_labels()\n",
    "ax.legend(lines, labels, loc='best')\n",
    "# Distributions almost same . Green flag"
   ]
  },
  {
   "cell_type": "code",
   "execution_count": 52,
   "id": "e3db92d5-17c2-4205-8f8e-1a95530daece",
   "metadata": {},
   "outputs": [
    {
     "data": {
      "text/html": [
       "<div>\n",
       "<style scoped>\n",
       "    .dataframe tbody tr th:only-of-type {\n",
       "        vertical-align: middle;\n",
       "    }\n",
       "\n",
       "    .dataframe tbody tr th {\n",
       "        vertical-align: top;\n",
       "    }\n",
       "\n",
       "    .dataframe thead th {\n",
       "        text-align: right;\n",
       "    }\n",
       "</style>\n",
       "<table border=\"1\" class=\"dataframe\">\n",
       "  <thead>\n",
       "    <tr style=\"text-align: right;\">\n",
       "      <th></th>\n",
       "      <th>Age</th>\n",
       "      <th>Fare</th>\n",
       "      <th>Family</th>\n",
       "      <th>age_filled_with_mean</th>\n",
       "      <th>age_filled_with_median</th>\n",
       "      <th>fare_filled_with_mean</th>\n",
       "      <th>fare_filled_with_median</th>\n",
       "    </tr>\n",
       "  </thead>\n",
       "  <tbody>\n",
       "    <tr>\n",
       "      <th>Age</th>\n",
       "      <td>213.517281</td>\n",
       "      <td>85.130094</td>\n",
       "      <td>-6.981553</td>\n",
       "      <td>213.517281</td>\n",
       "      <td>213.517281</td>\n",
       "      <td>80.774459</td>\n",
       "      <td>81.347199</td>\n",
       "    </tr>\n",
       "    <tr>\n",
       "      <th>Fare</th>\n",
       "      <td>85.130094</td>\n",
       "      <td>2686.963275</td>\n",
       "      <td>17.073910</td>\n",
       "      <td>68.945063</td>\n",
       "      <td>71.942732</td>\n",
       "      <td>2686.963275</td>\n",
       "      <td>2686.963275</td>\n",
       "    </tr>\n",
       "    <tr>\n",
       "      <th>Family</th>\n",
       "      <td>-6.981553</td>\n",
       "      <td>17.073910</td>\n",
       "      <td>2.647987</td>\n",
       "      <td>-5.665761</td>\n",
       "      <td>-5.639902</td>\n",
       "      <td>16.233422</td>\n",
       "      <td>16.219239</td>\n",
       "    </tr>\n",
       "    <tr>\n",
       "      <th>age_filled_with_mean</th>\n",
       "      <td>213.517281</td>\n",
       "      <td>68.945063</td>\n",
       "      <td>-5.665761</td>\n",
       "      <td>173.276330</td>\n",
       "      <td>173.276330</td>\n",
       "      <td>65.551143</td>\n",
       "      <td>66.015941</td>\n",
       "    </tr>\n",
       "    <tr>\n",
       "      <th>age_filled_with_median</th>\n",
       "      <td>213.517281</td>\n",
       "      <td>71.942732</td>\n",
       "      <td>-5.639902</td>\n",
       "      <td>173.276330</td>\n",
       "      <td>173.670862</td>\n",
       "      <td>68.401248</td>\n",
       "      <td>68.799025</td>\n",
       "    </tr>\n",
       "    <tr>\n",
       "      <th>fare_filled_with_mean</th>\n",
       "      <td>80.774459</td>\n",
       "      <td>2686.963275</td>\n",
       "      <td>16.233422</td>\n",
       "      <td>65.551143</td>\n",
       "      <td>68.401248</td>\n",
       "      <td>2554.693635</td>\n",
       "      <td>2554.693635</td>\n",
       "    </tr>\n",
       "    <tr>\n",
       "      <th>fare_filled_with_median</th>\n",
       "      <td>81.347199</td>\n",
       "      <td>2686.963275</td>\n",
       "      <td>16.219239</td>\n",
       "      <td>66.015941</td>\n",
       "      <td>68.799025</td>\n",
       "      <td>2554.693635</td>\n",
       "      <td>2571.056515</td>\n",
       "    </tr>\n",
       "  </tbody>\n",
       "</table>\n",
       "</div>"
      ],
      "text/plain": [
       "                                Age         Fare     Family  \\\n",
       "Age                      213.517281    85.130094  -6.981553   \n",
       "Fare                      85.130094  2686.963275  17.073910   \n",
       "Family                    -6.981553    17.073910   2.647987   \n",
       "age_filled_with_mean     213.517281    68.945063  -5.665761   \n",
       "age_filled_with_median   213.517281    71.942732  -5.639902   \n",
       "fare_filled_with_mean     80.774459  2686.963275  16.233422   \n",
       "fare_filled_with_median   81.347199  2686.963275  16.219239   \n",
       "\n",
       "                         age_filled_with_mean  age_filled_with_median  \\\n",
       "Age                                213.517281              213.517281   \n",
       "Fare                                68.945063               71.942732   \n",
       "Family                              -5.665761               -5.639902   \n",
       "age_filled_with_mean               173.276330              173.276330   \n",
       "age_filled_with_median             173.276330              173.670862   \n",
       "fare_filled_with_mean               65.551143               68.401248   \n",
       "fare_filled_with_median             66.015941               68.799025   \n",
       "\n",
       "                         fare_filled_with_mean  fare_filled_with_median  \n",
       "Age                                  80.774459                81.347199  \n",
       "Fare                               2686.963275              2686.963275  \n",
       "Family                               16.233422                16.219239  \n",
       "age_filled_with_mean                 65.551143                66.015941  \n",
       "age_filled_with_median               68.401248                68.799025  \n",
       "fare_filled_with_mean              2554.693635              2554.693635  \n",
       "fare_filled_with_median            2554.693635              2571.056515  "
      ]
     },
     "execution_count": 52,
     "metadata": {},
     "output_type": "execute_result"
    }
   ],
   "source": [
    "X_train.cov()"
   ]
  },
  {
   "cell_type": "code",
   "execution_count": 53,
   "id": "30f3af5a-1d34-40e5-86d0-cab36896b059",
   "metadata": {},
   "outputs": [
    {
     "data": {
      "text/html": [
       "<div>\n",
       "<style scoped>\n",
       "    .dataframe tbody tr th:only-of-type {\n",
       "        vertical-align: middle;\n",
       "    }\n",
       "\n",
       "    .dataframe tbody tr th {\n",
       "        vertical-align: top;\n",
       "    }\n",
       "\n",
       "    .dataframe thead th {\n",
       "        text-align: right;\n",
       "    }\n",
       "</style>\n",
       "<table border=\"1\" class=\"dataframe\">\n",
       "  <thead>\n",
       "    <tr style=\"text-align: right;\">\n",
       "      <th></th>\n",
       "      <th>Age</th>\n",
       "      <th>Fare</th>\n",
       "      <th>Family</th>\n",
       "      <th>age_filled_with_mean</th>\n",
       "      <th>age_filled_with_median</th>\n",
       "      <th>fare_filled_with_mean</th>\n",
       "      <th>fare_filled_with_median</th>\n",
       "    </tr>\n",
       "  </thead>\n",
       "  <tbody>\n",
       "    <tr>\n",
       "      <th>Age</th>\n",
       "      <td>1.000000</td>\n",
       "      <td>0.105165</td>\n",
       "      <td>-0.322917</td>\n",
       "      <td>1.000000</td>\n",
       "      <td>1.000000</td>\n",
       "      <td>0.103113</td>\n",
       "      <td>0.103459</td>\n",
       "    </tr>\n",
       "    <tr>\n",
       "      <th>Fare</th>\n",
       "      <td>0.105165</td>\n",
       "      <td>1.000000</td>\n",
       "      <td>0.200634</td>\n",
       "      <td>0.100567</td>\n",
       "      <td>0.104816</td>\n",
       "      <td>1.000000</td>\n",
       "      <td>1.000000</td>\n",
       "    </tr>\n",
       "    <tr>\n",
       "      <th>Family</th>\n",
       "      <td>-0.322917</td>\n",
       "      <td>0.200634</td>\n",
       "      <td>1.000000</td>\n",
       "      <td>-0.264503</td>\n",
       "      <td>-0.262997</td>\n",
       "      <td>0.197371</td>\n",
       "      <td>0.196570</td>\n",
       "    </tr>\n",
       "    <tr>\n",
       "      <th>age_filled_with_mean</th>\n",
       "      <td>1.000000</td>\n",
       "      <td>0.100567</td>\n",
       "      <td>-0.264503</td>\n",
       "      <td>1.000000</td>\n",
       "      <td>0.998863</td>\n",
       "      <td>0.098524</td>\n",
       "      <td>0.098906</td>\n",
       "    </tr>\n",
       "    <tr>\n",
       "      <th>age_filled_with_median</th>\n",
       "      <td>1.000000</td>\n",
       "      <td>0.104816</td>\n",
       "      <td>-0.262997</td>\n",
       "      <td>0.998863</td>\n",
       "      <td>1.000000</td>\n",
       "      <td>0.102691</td>\n",
       "      <td>0.102959</td>\n",
       "    </tr>\n",
       "    <tr>\n",
       "      <th>fare_filled_with_mean</th>\n",
       "      <td>0.103113</td>\n",
       "      <td>1.000000</td>\n",
       "      <td>0.197371</td>\n",
       "      <td>0.098524</td>\n",
       "      <td>0.102691</td>\n",
       "      <td>1.000000</td>\n",
       "      <td>0.996813</td>\n",
       "    </tr>\n",
       "    <tr>\n",
       "      <th>fare_filled_with_median</th>\n",
       "      <td>0.103459</td>\n",
       "      <td>1.000000</td>\n",
       "      <td>0.196570</td>\n",
       "      <td>0.098906</td>\n",
       "      <td>0.102959</td>\n",
       "      <td>0.996813</td>\n",
       "      <td>1.000000</td>\n",
       "    </tr>\n",
       "  </tbody>\n",
       "</table>\n",
       "</div>"
      ],
      "text/plain": [
       "                              Age      Fare    Family  age_filled_with_mean  \\\n",
       "Age                      1.000000  0.105165 -0.322917              1.000000   \n",
       "Fare                     0.105165  1.000000  0.200634              0.100567   \n",
       "Family                  -0.322917  0.200634  1.000000             -0.264503   \n",
       "age_filled_with_mean     1.000000  0.100567 -0.264503              1.000000   \n",
       "age_filled_with_median   1.000000  0.104816 -0.262997              0.998863   \n",
       "fare_filled_with_mean    0.103113  1.000000  0.197371              0.098524   \n",
       "fare_filled_with_median  0.103459  1.000000  0.196570              0.098906   \n",
       "\n",
       "                         age_filled_with_median  fare_filled_with_mean  \\\n",
       "Age                                    1.000000               0.103113   \n",
       "Fare                                   0.104816               1.000000   \n",
       "Family                                -0.262997               0.197371   \n",
       "age_filled_with_mean                   0.998863               0.098524   \n",
       "age_filled_with_median                 1.000000               0.102691   \n",
       "fare_filled_with_mean                  0.102691               1.000000   \n",
       "fare_filled_with_median                0.102959               0.996813   \n",
       "\n",
       "                         fare_filled_with_median  \n",
       "Age                                     0.103459  \n",
       "Fare                                    1.000000  \n",
       "Family                                  0.196570  \n",
       "age_filled_with_mean                    0.098906  \n",
       "age_filled_with_median                  0.102959  \n",
       "fare_filled_with_mean                   0.996813  \n",
       "fare_filled_with_median                 1.000000  "
      ]
     },
     "execution_count": 53,
     "metadata": {},
     "output_type": "execute_result"
    }
   ],
   "source": [
    "X_train.corr()"
   ]
  },
  {
   "cell_type": "code",
   "execution_count": 55,
   "id": "89087f17-2d29-4486-8afe-8402fcc1260b",
   "metadata": {},
   "outputs": [
    {
     "data": {
      "text/plain": [
       "<Axes: >"
      ]
     },
     "execution_count": 55,
     "metadata": {},
     "output_type": "execute_result"
    },
    {
     "data": {
      "image/png": "[encoded data removed]",
      "text/plain": [
       "<Figure size 640x480 with 1 Axes>"
      ]
     },
     "metadata": {},
     "output_type": "display_data"
    }
   ],
   "source": [
    "X_train[['Age', 'age_filled_with_mean', 'age_filled_with_median']].boxplot()\n",
    "# intro of outliers "
   ]
  },
  {
   "cell_type": "code",
   "execution_count": 56,
   "id": "e169f8da-6840-47f2-8536-746b8da4a35a",
   "metadata": {},
   "outputs": [
    {
     "data": {
      "text/plain": [
       "<Axes: >"
      ]
     },
     "execution_count": 56,
     "metadata": {},
     "output_type": "execute_result"
    },
    {
     "data": {
      "image/png": "[encoded data removed]",
      "text/plain": [
       "<Figure size 640x480 with 1 Axes>"
      ]
     },
     "metadata": {},
     "output_type": "display_data"
    }
   ],
   "source": [
    "X_train[['Fare', 'fare_filled_with_mean', 'fare_filled_with_median']].boxplot()"
   ]
  },
  {
   "cell_type": "code",
   "execution_count": 57,
   "id": "1e9bcbdb-1871-4b16-a462-cc064d2c2219",
   "metadata": {},
   "outputs": [],
   "source": [
    "# Conclusion : its ok to fill missing values in 'Fare' column with mean/median but not in 'Age' column as there are lot of missing values .  "
   ]
  },
  {
   "cell_type": "code",
   "execution_count": null,
   "id": "7339150c-d557-47ef-b3dc-03b27e298fe0",
   "metadata": {},
   "outputs": [],
   "source": []
  }
 ],
 "metadata": {
  "kernelspec": {
   "display_name": "Python 3 (ipykernel)",
   "language": "python",
   "name": "python3"
  },
  "language_info": {
   "codemirror_mode": {
    "name": "ipython",
    "version": 3
   },
   "file_extension": ".py",
   "mimetype": "text/x-python",
   "name": "python",
   "nbconvert_exporter": "python",
   "pygments_lexer": "ipython3",
   "version": "3.12.1"
  }
 },
 "nbformat": 4,
 "nbformat_minor": 5
}
